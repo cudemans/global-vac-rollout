{
 "cells": [
  {
   "cell_type": "code",
   "execution_count": 1,
   "metadata": {},
   "outputs": [],
   "source": [
    "import pandas as pd\n",
    "import numpy as np\n",
    "from urllib.request import urlopen\n",
    "import json\n",
    "import matplotlib.pyplot as plt"
   ]
  },
  {
   "cell_type": "markdown",
   "metadata": {},
   "source": [
    "#### Import World Bank data"
   ]
  },
  {
   "cell_type": "code",
   "execution_count": 2,
   "metadata": {},
   "outputs": [],
   "source": [
    "def process_world_bank(dataset, subset):\n",
    "    data = pd.read_csv(dataset, skiprows=2, parse_dates=True, header=1)\n",
    "    data = data.drop(columns='Unnamed: 65')\n",
    "    nums = data.loc[:, '1960':]\n",
    "    nums = nums.fillna(method='ffill', axis=1)\n",
    "    data.loc[:, '1960':] = nums\n",
    "    data = data[['Country Name', 'Country Code', data.columns[-1]]]\n",
    "    data.columns = ['Country Name','Country Code', subset]\n",
    "    return data"
   ]
  },
  {
   "cell_type": "code",
   "execution_count": 3,
   "metadata": {},
   "outputs": [],
   "source": [
    "gdp = process_world_bank('API_NY.GDP.PCAP.CD_DS2_en_csv_v2_2445354.csv', 'GDPpc')"
   ]
  },
  {
   "cell_type": "code",
   "execution_count": 4,
   "metadata": {},
   "outputs": [],
   "source": [
    "population = process_world_bank('API_SP.POP.TOTL_DS2_en_csv_v2_2445260.csv', 'Population')"
   ]
  },
  {
   "cell_type": "code",
   "execution_count": 5,
   "metadata": {},
   "outputs": [],
   "source": [
    "#### Add continent data"
   ]
  },
  {
   "cell_type": "code",
   "execution_count": 6,
   "metadata": {},
   "outputs": [],
   "source": [
    "continent = pd.read_csv('Metadata_Country_API_NY.GDP.PCAP.CD_DS2_en_csv_v2_2445354.csv')"
   ]
  },
  {
   "cell_type": "code",
   "execution_count": 7,
   "metadata": {},
   "outputs": [],
   "source": [
    "continent = continent[['Country Code', 'Region', 'IncomeGroup']]"
   ]
  },
  {
   "cell_type": "code",
   "execution_count": 8,
   "metadata": {},
   "outputs": [],
   "source": [
    "population = pd.merge(continent, population, left_on='Country Code', right_on='Country Code')"
   ]
  },
  {
   "cell_type": "markdown",
   "metadata": {},
   "source": [
    "Merge the population and GDP datasets"
   ]
  },
  {
   "cell_type": "code",
   "execution_count": 9,
   "metadata": {},
   "outputs": [],
   "source": [
    "pop_gdp = pd.merge(gdp, population, left_on='Country Name', right_on='Country Name')"
   ]
  },
  {
   "cell_type": "code",
   "execution_count": 10,
   "metadata": {},
   "outputs": [],
   "source": [
    "pop_gdp = pop_gdp.drop(columns=['Country Code_y', 'Country Code_x'])"
   ]
  },
  {
   "cell_type": "code",
   "execution_count": null,
   "metadata": {},
   "outputs": [],
   "source": []
  },
  {
   "cell_type": "markdown",
   "metadata": {},
   "source": [
    "### Import vaccination data"
   ]
  },
  {
   "cell_type": "code",
   "execution_count": 2,
   "metadata": {},
   "outputs": [],
   "source": [
    "data_vac = pd.read_csv('https://raw.githubusercontent.com/owid/covid-19-data/master/public/data/vaccinations/vaccinations.csv')"
   ]
  },
  {
   "cell_type": "code",
   "execution_count": 3,
   "metadata": {},
   "outputs": [],
   "source": [
    "# Fill latest NaN values \n",
    "new_vac = data_vac.fillna(method='ffill')"
   ]
  },
  {
   "cell_type": "code",
   "execution_count": 17,
   "metadata": {},
   "outputs": [
    {
     "data": {
      "text/html": [
       "<div>\n",
       "<style scoped>\n",
       "    .dataframe tbody tr th:only-of-type {\n",
       "        vertical-align: middle;\n",
       "    }\n",
       "\n",
       "    .dataframe tbody tr th {\n",
       "        vertical-align: top;\n",
       "    }\n",
       "\n",
       "    .dataframe thead th {\n",
       "        text-align: right;\n",
       "    }\n",
       "</style>\n",
       "<table border=\"1\" class=\"dataframe\">\n",
       "  <thead>\n",
       "    <tr style=\"text-align: right;\">\n",
       "      <th></th>\n",
       "      <th>location</th>\n",
       "      <th>iso_code</th>\n",
       "      <th>date</th>\n",
       "      <th>total_vaccinations</th>\n",
       "      <th>people_vaccinated</th>\n",
       "      <th>people_fully_vaccinated</th>\n",
       "      <th>daily_vaccinations_raw</th>\n",
       "      <th>daily_vaccinations</th>\n",
       "      <th>total_vaccinations_per_hundred</th>\n",
       "      <th>people_vaccinated_per_hundred</th>\n",
       "      <th>people_fully_vaccinated_per_hundred</th>\n",
       "      <th>daily_vaccinations_per_million</th>\n",
       "    </tr>\n",
       "  </thead>\n",
       "  <tbody>\n",
       "    <tr>\n",
       "      <th>0</th>\n",
       "      <td>Afghanistan</td>\n",
       "      <td>AFG</td>\n",
       "      <td>2021-02-22</td>\n",
       "      <td>0.0</td>\n",
       "      <td>0.0</td>\n",
       "      <td>0.0</td>\n",
       "      <td>0.0</td>\n",
       "      <td>0.0</td>\n",
       "      <td>0.00</td>\n",
       "      <td>0.00</td>\n",
       "      <td>0.00</td>\n",
       "      <td>0.0</td>\n",
       "    </tr>\n",
       "    <tr>\n",
       "      <th>1</th>\n",
       "      <td>Afghanistan</td>\n",
       "      <td>AFG</td>\n",
       "      <td>2021-02-23</td>\n",
       "      <td>0.0</td>\n",
       "      <td>0.0</td>\n",
       "      <td>0.0</td>\n",
       "      <td>0.0</td>\n",
       "      <td>1367.0</td>\n",
       "      <td>0.00</td>\n",
       "      <td>0.00</td>\n",
       "      <td>0.00</td>\n",
       "      <td>35.0</td>\n",
       "    </tr>\n",
       "    <tr>\n",
       "      <th>2</th>\n",
       "      <td>Afghanistan</td>\n",
       "      <td>AFG</td>\n",
       "      <td>2021-02-24</td>\n",
       "      <td>0.0</td>\n",
       "      <td>0.0</td>\n",
       "      <td>0.0</td>\n",
       "      <td>0.0</td>\n",
       "      <td>1367.0</td>\n",
       "      <td>0.00</td>\n",
       "      <td>0.00</td>\n",
       "      <td>0.00</td>\n",
       "      <td>35.0</td>\n",
       "    </tr>\n",
       "    <tr>\n",
       "      <th>3</th>\n",
       "      <td>Afghanistan</td>\n",
       "      <td>AFG</td>\n",
       "      <td>2021-02-25</td>\n",
       "      <td>0.0</td>\n",
       "      <td>0.0</td>\n",
       "      <td>0.0</td>\n",
       "      <td>0.0</td>\n",
       "      <td>1367.0</td>\n",
       "      <td>0.00</td>\n",
       "      <td>0.00</td>\n",
       "      <td>0.00</td>\n",
       "      <td>35.0</td>\n",
       "    </tr>\n",
       "    <tr>\n",
       "      <th>4</th>\n",
       "      <td>Afghanistan</td>\n",
       "      <td>AFG</td>\n",
       "      <td>2021-02-26</td>\n",
       "      <td>0.0</td>\n",
       "      <td>0.0</td>\n",
       "      <td>0.0</td>\n",
       "      <td>0.0</td>\n",
       "      <td>1367.0</td>\n",
       "      <td>0.00</td>\n",
       "      <td>0.00</td>\n",
       "      <td>0.00</td>\n",
       "      <td>35.0</td>\n",
       "    </tr>\n",
       "    <tr>\n",
       "      <th>...</th>\n",
       "      <td>...</td>\n",
       "      <td>...</td>\n",
       "      <td>...</td>\n",
       "      <td>...</td>\n",
       "      <td>...</td>\n",
       "      <td>...</td>\n",
       "      <td>...</td>\n",
       "      <td>...</td>\n",
       "      <td>...</td>\n",
       "      <td>...</td>\n",
       "      <td>...</td>\n",
       "      <td>...</td>\n",
       "    </tr>\n",
       "    <tr>\n",
       "      <th>28678</th>\n",
       "      <td>Zimbabwe</td>\n",
       "      <td>ZWE</td>\n",
       "      <td>2021-06-18</td>\n",
       "      <td>1131397.0</td>\n",
       "      <td>700244.0</td>\n",
       "      <td>431153.0</td>\n",
       "      <td>5310.0</td>\n",
       "      <td>4935.0</td>\n",
       "      <td>7.61</td>\n",
       "      <td>4.71</td>\n",
       "      <td>2.90</td>\n",
       "      <td>332.0</td>\n",
       "    </tr>\n",
       "    <tr>\n",
       "      <th>28679</th>\n",
       "      <td>Zimbabwe</td>\n",
       "      <td>ZWE</td>\n",
       "      <td>2021-06-19</td>\n",
       "      <td>1133920.0</td>\n",
       "      <td>701348.0</td>\n",
       "      <td>432572.0</td>\n",
       "      <td>2523.0</td>\n",
       "      <td>4360.0</td>\n",
       "      <td>7.63</td>\n",
       "      <td>4.72</td>\n",
       "      <td>2.91</td>\n",
       "      <td>293.0</td>\n",
       "    </tr>\n",
       "    <tr>\n",
       "      <th>28680</th>\n",
       "      <td>Zimbabwe</td>\n",
       "      <td>ZWE</td>\n",
       "      <td>2021-06-20</td>\n",
       "      <td>1138733.0</td>\n",
       "      <td>703065.0</td>\n",
       "      <td>435668.0</td>\n",
       "      <td>4813.0</td>\n",
       "      <td>4525.0</td>\n",
       "      <td>7.66</td>\n",
       "      <td>4.73</td>\n",
       "      <td>2.93</td>\n",
       "      <td>304.0</td>\n",
       "    </tr>\n",
       "    <tr>\n",
       "      <th>28681</th>\n",
       "      <td>Zimbabwe</td>\n",
       "      <td>ZWE</td>\n",
       "      <td>2021-06-21</td>\n",
       "      <td>1140852.0</td>\n",
       "      <td>704001.0</td>\n",
       "      <td>436851.0</td>\n",
       "      <td>2119.0</td>\n",
       "      <td>4664.0</td>\n",
       "      <td>7.68</td>\n",
       "      <td>4.74</td>\n",
       "      <td>2.94</td>\n",
       "      <td>314.0</td>\n",
       "    </tr>\n",
       "    <tr>\n",
       "      <th>28682</th>\n",
       "      <td>Zimbabwe</td>\n",
       "      <td>ZWE</td>\n",
       "      <td>2021-06-22</td>\n",
       "      <td>1146378.0</td>\n",
       "      <td>706158.0</td>\n",
       "      <td>440220.0</td>\n",
       "      <td>5526.0</td>\n",
       "      <td>4700.0</td>\n",
       "      <td>7.71</td>\n",
       "      <td>4.75</td>\n",
       "      <td>2.96</td>\n",
       "      <td>316.0</td>\n",
       "    </tr>\n",
       "  </tbody>\n",
       "</table>\n",
       "<p>28683 rows × 12 columns</p>\n",
       "</div>"
      ],
      "text/plain": [
       "          location iso_code        date  total_vaccinations  \\\n",
       "0      Afghanistan      AFG  2021-02-22                 0.0   \n",
       "1      Afghanistan      AFG  2021-02-23                 0.0   \n",
       "2      Afghanistan      AFG  2021-02-24                 0.0   \n",
       "3      Afghanistan      AFG  2021-02-25                 0.0   \n",
       "4      Afghanistan      AFG  2021-02-26                 0.0   \n",
       "...            ...      ...         ...                 ...   \n",
       "28678     Zimbabwe      ZWE  2021-06-18           1131397.0   \n",
       "28679     Zimbabwe      ZWE  2021-06-19           1133920.0   \n",
       "28680     Zimbabwe      ZWE  2021-06-20           1138733.0   \n",
       "28681     Zimbabwe      ZWE  2021-06-21           1140852.0   \n",
       "28682     Zimbabwe      ZWE  2021-06-22           1146378.0   \n",
       "\n",
       "       people_vaccinated  people_fully_vaccinated  daily_vaccinations_raw  \\\n",
       "0                    0.0                      0.0                     0.0   \n",
       "1                    0.0                      0.0                     0.0   \n",
       "2                    0.0                      0.0                     0.0   \n",
       "3                    0.0                      0.0                     0.0   \n",
       "4                    0.0                      0.0                     0.0   \n",
       "...                  ...                      ...                     ...   \n",
       "28678           700244.0                 431153.0                  5310.0   \n",
       "28679           701348.0                 432572.0                  2523.0   \n",
       "28680           703065.0                 435668.0                  4813.0   \n",
       "28681           704001.0                 436851.0                  2119.0   \n",
       "28682           706158.0                 440220.0                  5526.0   \n",
       "\n",
       "       daily_vaccinations  total_vaccinations_per_hundred  \\\n",
       "0                     0.0                            0.00   \n",
       "1                  1367.0                            0.00   \n",
       "2                  1367.0                            0.00   \n",
       "3                  1367.0                            0.00   \n",
       "4                  1367.0                            0.00   \n",
       "...                   ...                             ...   \n",
       "28678              4935.0                            7.61   \n",
       "28679              4360.0                            7.63   \n",
       "28680              4525.0                            7.66   \n",
       "28681              4664.0                            7.68   \n",
       "28682              4700.0                            7.71   \n",
       "\n",
       "       people_vaccinated_per_hundred  people_fully_vaccinated_per_hundred  \\\n",
       "0                               0.00                                 0.00   \n",
       "1                               0.00                                 0.00   \n",
       "2                               0.00                                 0.00   \n",
       "3                               0.00                                 0.00   \n",
       "4                               0.00                                 0.00   \n",
       "...                              ...                                  ...   \n",
       "28678                           4.71                                 2.90   \n",
       "28679                           4.72                                 2.91   \n",
       "28680                           4.73                                 2.93   \n",
       "28681                           4.74                                 2.94   \n",
       "28682                           4.75                                 2.96   \n",
       "\n",
       "       daily_vaccinations_per_million  \n",
       "0                                 0.0  \n",
       "1                                35.0  \n",
       "2                                35.0  \n",
       "3                                35.0  \n",
       "4                                35.0  \n",
       "...                               ...  \n",
       "28678                           332.0  \n",
       "28679                           293.0  \n",
       "28680                           304.0  \n",
       "28681                           314.0  \n",
       "28682                           316.0  \n",
       "\n",
       "[28683 rows x 12 columns]"
      ]
     },
     "execution_count": 17,
     "metadata": {},
     "output_type": "execute_result"
    }
   ],
   "source": [
    "newer"
   ]
  },
  {
   "cell_type": "code",
   "execution_count": 21,
   "metadata": {},
   "outputs": [
    {
     "data": {
      "text/plain": [
       "[<matplotlib.lines.Line2D at 0x12e1b9b50>]"
      ]
     },
     "execution_count": 21,
     "metadata": {},
     "output_type": "execute_result"
    },
    {
     "data": {
      "image/png": "[encoded data removed]",
      "text/plain": [
       "<Figure size 432x288 with 1 Axes>"
      ]
     },
     "metadata": {
      "needs_background": "light"
     },
     "output_type": "display_data"
    }
   ],
   "source": [
    "afghanistan = newer[newer.location == 'Afghanistan']\n",
    "\n",
    "plt.plot(afghanistan.date, afghanistan.total_vaccinations)"
   ]
  },
  {
   "cell_type": "code",
   "execution_count": 25,
   "metadata": {},
   "outputs": [
    {
     "data": {
      "image/png": "[encoded data removed]",
      "text/plain": [
       "<Figure size 576x432 with 1 Axes>"
      ]
     },
     "metadata": {
      "needs_background": "light"
     },
     "output_type": "display_data"
    }
   ],
   "source": [
    "fig, ax = plt.subplots(figsize=(8,6))\n",
    "for i in newer.location.unique():\n",
    "    country = newer[newer.location == i]\n",
    "    plt.plot(country.date, country.total_vaccinations_per_hundred)\n"
   ]
  },
  {
   "cell_type": "code",
   "execution_count": 9,
   "metadata": {},
   "outputs": [
    {
     "data": {
      "text/plain": [
       "location\n",
       "Afghanistan          AxesSubplot(0.125,0.125;0.775x0.755)\n",
       "Africa               AxesSubplot(0.125,0.125;0.775x0.755)\n",
       "Albania              AxesSubplot(0.125,0.125;0.775x0.755)\n",
       "Algeria              AxesSubplot(0.125,0.125;0.775x0.755)\n",
       "Andorra              AxesSubplot(0.125,0.125;0.775x0.755)\n",
       "                                     ...                 \n",
       "Wallis and Futuna    AxesSubplot(0.125,0.125;0.775x0.755)\n",
       "World                AxesSubplot(0.125,0.125;0.775x0.755)\n",
       "Yemen                AxesSubplot(0.125,0.125;0.775x0.755)\n",
       "Zambia               AxesSubplot(0.125,0.125;0.775x0.755)\n",
       "Zimbabwe             AxesSubplot(0.125,0.125;0.775x0.755)\n",
       "Name: total_vaccinations, Length: 229, dtype: object"
      ]
     },
     "execution_count": 9,
     "metadata": {},
     "output_type": "execute_result"
    },
    {
     "data": {
      "image/png": "[encoded data removed]",
      "text/plain": [
       "<Figure size 432x288 with 1 Axes>"
      ]
     },
     "metadata": {
      "needs_background": "light"
     },
     "output_type": "display_data"
    }
   ],
   "source": [
    "newer.groupby('location')['total_vaccinations'].plot()"
   ]
  },
  {
   "cell_type": "code",
   "execution_count": null,
   "metadata": {},
   "outputs": [],
   "source": []
  },
  {
   "cell_type": "code",
   "execution_count": 13,
   "metadata": {},
   "outputs": [],
   "source": [
    "def getData(dataset):\n",
    "    countries = []\n",
    "    for country in dataset['location'].unique():\n",
    "        dataInner = dataset[dataset.location == country]\n",
    "        last_vac = dataInner.iloc[-1, :]\n",
    "        countries.append(last_vac)\n",
    "    return countries"
   ]
  },
  {
   "cell_type": "code",
   "execution_count": 14,
   "metadata": {},
   "outputs": [],
   "source": [
    "parsedData = getData(new_vac)"
   ]
  },
  {
   "cell_type": "code",
   "execution_count": 15,
   "metadata": {},
   "outputs": [],
   "source": [
    "parsedDf = pd.DataFrame(parsedData)"
   ]
  },
  {
   "cell_type": "markdown",
   "metadata": {},
   "source": [
    "#### Subset the dataframes based on the intersection"
   ]
  },
  {
   "cell_type": "code",
   "execution_count": 16,
   "metadata": {},
   "outputs": [],
   "source": [
    "country_intersect = np.intersect1d(pop_gdp['Country Name'].unique(), parsedDf['location'].unique())"
   ]
  },
  {
   "cell_type": "code",
   "execution_count": 17,
   "metadata": {},
   "outputs": [],
   "source": [
    "vac_subset = parsedDf[parsedDf.location.isin(country_intersect)]"
   ]
  },
  {
   "cell_type": "code",
   "execution_count": 18,
   "metadata": {},
   "outputs": [],
   "source": [
    "pop_gdp_subset = pop_gdp[pop_gdp['Country Name'].isin(country_intersect)]"
   ]
  },
  {
   "cell_type": "markdown",
   "metadata": {},
   "source": [
    "#### Merge the two datasets"
   ]
  },
  {
   "cell_type": "code",
   "execution_count": 19,
   "metadata": {},
   "outputs": [],
   "source": [
    " merged = pd.merge(pop_gdp_subset, vac_subset, left_on='Country Name', right_on='location')"
   ]
  },
  {
   "cell_type": "code",
   "execution_count": 20,
   "metadata": {},
   "outputs": [
    {
     "data": {
      "text/html": [
       "<div>\n",
       "<style scoped>\n",
       "    .dataframe tbody tr th:only-of-type {\n",
       "        vertical-align: middle;\n",
       "    }\n",
       "\n",
       "    .dataframe tbody tr th {\n",
       "        vertical-align: top;\n",
       "    }\n",
       "\n",
       "    .dataframe thead th {\n",
       "        text-align: right;\n",
       "    }\n",
       "</style>\n",
       "<table border=\"1\" class=\"dataframe\">\n",
       "  <thead>\n",
       "    <tr style=\"text-align: right;\">\n",
       "      <th></th>\n",
       "      <th>Country Name</th>\n",
       "      <th>GDPpc</th>\n",
       "      <th>Region</th>\n",
       "      <th>IncomeGroup</th>\n",
       "      <th>Population</th>\n",
       "      <th>location</th>\n",
       "      <th>iso_code</th>\n",
       "      <th>date</th>\n",
       "      <th>total_vaccinations</th>\n",
       "      <th>people_vaccinated</th>\n",
       "      <th>people_fully_vaccinated</th>\n",
       "      <th>daily_vaccinations_raw</th>\n",
       "      <th>daily_vaccinations</th>\n",
       "      <th>total_vaccinations_per_hundred</th>\n",
       "      <th>people_vaccinated_per_hundred</th>\n",
       "      <th>people_fully_vaccinated_per_hundred</th>\n",
       "      <th>daily_vaccinations_per_million</th>\n",
       "    </tr>\n",
       "  </thead>\n",
       "  <tbody>\n",
       "    <tr>\n",
       "      <th>0</th>\n",
       "      <td>Aruba</td>\n",
       "      <td>29007.693003</td>\n",
       "      <td>Latin America &amp; Caribbean</td>\n",
       "      <td>High income</td>\n",
       "      <td>106314.0</td>\n",
       "      <td>Aruba</td>\n",
       "      <td>ABW</td>\n",
       "      <td>2021-06-21</td>\n",
       "      <td>124003.0</td>\n",
       "      <td>66894.0</td>\n",
       "      <td>57109.0</td>\n",
       "      <td>113.0</td>\n",
       "      <td>304.0</td>\n",
       "      <td>116.14</td>\n",
       "      <td>62.65</td>\n",
       "      <td>53.49</td>\n",
       "      <td>2847.0</td>\n",
       "    </tr>\n",
       "    <tr>\n",
       "      <th>1</th>\n",
       "      <td>Afghanistan</td>\n",
       "      <td>507.103432</td>\n",
       "      <td>South Asia</td>\n",
       "      <td>Low income</td>\n",
       "      <td>38041754.0</td>\n",
       "      <td>Afghanistan</td>\n",
       "      <td>AFG</td>\n",
       "      <td>2021-06-14</td>\n",
       "      <td>662003.0</td>\n",
       "      <td>484737.0</td>\n",
       "      <td>177266.0</td>\n",
       "      <td>4015.0</td>\n",
       "      <td>3272.0</td>\n",
       "      <td>1.70</td>\n",
       "      <td>1.25</td>\n",
       "      <td>0.46</td>\n",
       "      <td>84.0</td>\n",
       "    </tr>\n",
       "    <tr>\n",
       "      <th>2</th>\n",
       "      <td>Angola</td>\n",
       "      <td>2790.726615</td>\n",
       "      <td>Sub-Saharan Africa</td>\n",
       "      <td>Lower middle income</td>\n",
       "      <td>31825295.0</td>\n",
       "      <td>Angola</td>\n",
       "      <td>AGO</td>\n",
       "      <td>2021-06-20</td>\n",
       "      <td>1380174.0</td>\n",
       "      <td>866381.0</td>\n",
       "      <td>513793.0</td>\n",
       "      <td>1973.0</td>\n",
       "      <td>14642.0</td>\n",
       "      <td>4.20</td>\n",
       "      <td>2.64</td>\n",
       "      <td>1.56</td>\n",
       "      <td>446.0</td>\n",
       "    </tr>\n",
       "    <tr>\n",
       "      <th>3</th>\n",
       "      <td>Albania</td>\n",
       "      <td>5353.244856</td>\n",
       "      <td>Europe &amp; Central Asia</td>\n",
       "      <td>Upper middle income</td>\n",
       "      <td>2854191.0</td>\n",
       "      <td>Albania</td>\n",
       "      <td>ALB</td>\n",
       "      <td>2021-06-21</td>\n",
       "      <td>890052.0</td>\n",
       "      <td>519674.0</td>\n",
       "      <td>370378.0</td>\n",
       "      <td>9140.0</td>\n",
       "      <td>6788.0</td>\n",
       "      <td>30.93</td>\n",
       "      <td>18.06</td>\n",
       "      <td>12.87</td>\n",
       "      <td>2359.0</td>\n",
       "    </tr>\n",
       "    <tr>\n",
       "      <th>4</th>\n",
       "      <td>Andorra</td>\n",
       "      <td>40886.391165</td>\n",
       "      <td>Europe &amp; Central Asia</td>\n",
       "      <td>High income</td>\n",
       "      <td>77142.0</td>\n",
       "      <td>Andorra</td>\n",
       "      <td>AND</td>\n",
       "      <td>2021-06-14</td>\n",
       "      <td>51107.0</td>\n",
       "      <td>34646.0</td>\n",
       "      <td>16416.0</td>\n",
       "      <td>1973.0</td>\n",
       "      <td>1376.0</td>\n",
       "      <td>66.15</td>\n",
       "      <td>44.84</td>\n",
       "      <td>21.25</td>\n",
       "      <td>17809.0</td>\n",
       "    </tr>\n",
       "    <tr>\n",
       "      <th>...</th>\n",
       "      <td>...</td>\n",
       "      <td>...</td>\n",
       "      <td>...</td>\n",
       "      <td>...</td>\n",
       "      <td>...</td>\n",
       "      <td>...</td>\n",
       "      <td>...</td>\n",
       "      <td>...</td>\n",
       "      <td>...</td>\n",
       "      <td>...</td>\n",
       "      <td>...</td>\n",
       "      <td>...</td>\n",
       "      <td>...</td>\n",
       "      <td>...</td>\n",
       "      <td>...</td>\n",
       "      <td>...</td>\n",
       "      <td>...</td>\n",
       "    </tr>\n",
       "    <tr>\n",
       "      <th>178</th>\n",
       "      <td>Samoa</td>\n",
       "      <td>4324.014018</td>\n",
       "      <td>East Asia &amp; Pacific</td>\n",
       "      <td>Upper middle income</td>\n",
       "      <td>197097.0</td>\n",
       "      <td>Samoa</td>\n",
       "      <td>WSM</td>\n",
       "      <td>2021-06-21</td>\n",
       "      <td>45178.0</td>\n",
       "      <td>43983.0</td>\n",
       "      <td>1195.0</td>\n",
       "      <td>524.0</td>\n",
       "      <td>745.0</td>\n",
       "      <td>22.77</td>\n",
       "      <td>22.17</td>\n",
       "      <td>0.60</td>\n",
       "      <td>3755.0</td>\n",
       "    </tr>\n",
       "    <tr>\n",
       "      <th>179</th>\n",
       "      <td>Kosovo</td>\n",
       "      <td>4430.784947</td>\n",
       "      <td>Europe &amp; Central Asia</td>\n",
       "      <td>Upper middle income</td>\n",
       "      <td>1788878.0</td>\n",
       "      <td>Kosovo</td>\n",
       "      <td>OWID_KOS</td>\n",
       "      <td>2021-06-20</td>\n",
       "      <td>133868.0</td>\n",
       "      <td>116057.0</td>\n",
       "      <td>17811.0</td>\n",
       "      <td>1800.0</td>\n",
       "      <td>5084.0</td>\n",
       "      <td>6.93</td>\n",
       "      <td>6.00</td>\n",
       "      <td>0.92</td>\n",
       "      <td>2630.0</td>\n",
       "    </tr>\n",
       "    <tr>\n",
       "      <th>180</th>\n",
       "      <td>South Africa</td>\n",
       "      <td>6001.401121</td>\n",
       "      <td>Sub-Saharan Africa</td>\n",
       "      <td>Upper middle income</td>\n",
       "      <td>58558267.0</td>\n",
       "      <td>South Africa</td>\n",
       "      <td>ZAF</td>\n",
       "      <td>2021-06-19</td>\n",
       "      <td>2141624.0</td>\n",
       "      <td>2141624.0</td>\n",
       "      <td>479768.0</td>\n",
       "      <td>4553.0</td>\n",
       "      <td>52601.0</td>\n",
       "      <td>3.61</td>\n",
       "      <td>3.61</td>\n",
       "      <td>0.81</td>\n",
       "      <td>887.0</td>\n",
       "    </tr>\n",
       "    <tr>\n",
       "      <th>181</th>\n",
       "      <td>Zambia</td>\n",
       "      <td>1305.063254</td>\n",
       "      <td>Sub-Saharan Africa</td>\n",
       "      <td>Lower middle income</td>\n",
       "      <td>17861030.0</td>\n",
       "      <td>Zambia</td>\n",
       "      <td>ZMB</td>\n",
       "      <td>2021-06-15</td>\n",
       "      <td>148304.0</td>\n",
       "      <td>142089.0</td>\n",
       "      <td>6215.0</td>\n",
       "      <td>388.0</td>\n",
       "      <td>91.0</td>\n",
       "      <td>0.81</td>\n",
       "      <td>0.77</td>\n",
       "      <td>0.03</td>\n",
       "      <td>5.0</td>\n",
       "    </tr>\n",
       "    <tr>\n",
       "      <th>182</th>\n",
       "      <td>Zimbabwe</td>\n",
       "      <td>1463.985910</td>\n",
       "      <td>Sub-Saharan Africa</td>\n",
       "      <td>Lower middle income</td>\n",
       "      <td>14645468.0</td>\n",
       "      <td>Zimbabwe</td>\n",
       "      <td>ZWE</td>\n",
       "      <td>2021-06-20</td>\n",
       "      <td>1138733.0</td>\n",
       "      <td>703065.0</td>\n",
       "      <td>435668.0</td>\n",
       "      <td>4813.0</td>\n",
       "      <td>4525.0</td>\n",
       "      <td>7.66</td>\n",
       "      <td>4.73</td>\n",
       "      <td>2.93</td>\n",
       "      <td>304.0</td>\n",
       "    </tr>\n",
       "  </tbody>\n",
       "</table>\n",
       "<p>183 rows × 17 columns</p>\n",
       "</div>"
      ],
      "text/plain": [
       "     Country Name         GDPpc                     Region  \\\n",
       "0           Aruba  29007.693003  Latin America & Caribbean   \n",
       "1     Afghanistan    507.103432                 South Asia   \n",
       "2          Angola   2790.726615         Sub-Saharan Africa   \n",
       "3         Albania   5353.244856      Europe & Central Asia   \n",
       "4         Andorra  40886.391165      Europe & Central Asia   \n",
       "..            ...           ...                        ...   \n",
       "178         Samoa   4324.014018        East Asia & Pacific   \n",
       "179        Kosovo   4430.784947      Europe & Central Asia   \n",
       "180  South Africa   6001.401121         Sub-Saharan Africa   \n",
       "181        Zambia   1305.063254         Sub-Saharan Africa   \n",
       "182      Zimbabwe   1463.985910         Sub-Saharan Africa   \n",
       "\n",
       "             IncomeGroup  Population      location  iso_code        date  \\\n",
       "0            High income    106314.0         Aruba       ABW  2021-06-21   \n",
       "1             Low income  38041754.0   Afghanistan       AFG  2021-06-14   \n",
       "2    Lower middle income  31825295.0        Angola       AGO  2021-06-20   \n",
       "3    Upper middle income   2854191.0       Albania       ALB  2021-06-21   \n",
       "4            High income     77142.0       Andorra       AND  2021-06-14   \n",
       "..                   ...         ...           ...       ...         ...   \n",
       "178  Upper middle income    197097.0         Samoa       WSM  2021-06-21   \n",
       "179  Upper middle income   1788878.0        Kosovo  OWID_KOS  2021-06-20   \n",
       "180  Upper middle income  58558267.0  South Africa       ZAF  2021-06-19   \n",
       "181  Lower middle income  17861030.0        Zambia       ZMB  2021-06-15   \n",
       "182  Lower middle income  14645468.0      Zimbabwe       ZWE  2021-06-20   \n",
       "\n",
       "     total_vaccinations  people_vaccinated  people_fully_vaccinated  \\\n",
       "0              124003.0            66894.0                  57109.0   \n",
       "1              662003.0           484737.0                 177266.0   \n",
       "2             1380174.0           866381.0                 513793.0   \n",
       "3              890052.0           519674.0                 370378.0   \n",
       "4               51107.0            34646.0                  16416.0   \n",
       "..                  ...                ...                      ...   \n",
       "178             45178.0            43983.0                   1195.0   \n",
       "179            133868.0           116057.0                  17811.0   \n",
       "180           2141624.0          2141624.0                 479768.0   \n",
       "181            148304.0           142089.0                   6215.0   \n",
       "182           1138733.0           703065.0                 435668.0   \n",
       "\n",
       "     daily_vaccinations_raw  daily_vaccinations  \\\n",
       "0                     113.0               304.0   \n",
       "1                    4015.0              3272.0   \n",
       "2                    1973.0             14642.0   \n",
       "3                    9140.0              6788.0   \n",
       "4                    1973.0              1376.0   \n",
       "..                      ...                 ...   \n",
       "178                   524.0               745.0   \n",
       "179                  1800.0              5084.0   \n",
       "180                  4553.0             52601.0   \n",
       "181                   388.0                91.0   \n",
       "182                  4813.0              4525.0   \n",
       "\n",
       "     total_vaccinations_per_hundred  people_vaccinated_per_hundred  \\\n",
       "0                            116.14                          62.65   \n",
       "1                              1.70                           1.25   \n",
       "2                              4.20                           2.64   \n",
       "3                             30.93                          18.06   \n",
       "4                             66.15                          44.84   \n",
       "..                              ...                            ...   \n",
       "178                           22.77                          22.17   \n",
       "179                            6.93                           6.00   \n",
       "180                            3.61                           3.61   \n",
       "181                            0.81                           0.77   \n",
       "182                            7.66                           4.73   \n",
       "\n",
       "     people_fully_vaccinated_per_hundred  daily_vaccinations_per_million  \n",
       "0                                  53.49                          2847.0  \n",
       "1                                   0.46                            84.0  \n",
       "2                                   1.56                           446.0  \n",
       "3                                  12.87                          2359.0  \n",
       "4                                  21.25                         17809.0  \n",
       "..                                   ...                             ...  \n",
       "178                                 0.60                          3755.0  \n",
       "179                                 0.92                          2630.0  \n",
       "180                                 0.81                           887.0  \n",
       "181                                 0.03                             5.0  \n",
       "182                                 2.93                           304.0  \n",
       "\n",
       "[183 rows x 17 columns]"
      ]
     },
     "execution_count": 20,
     "metadata": {},
     "output_type": "execute_result"
    }
   ],
   "source": [
    "merged"
   ]
  },
  {
   "cell_type": "code",
   "execution_count": 21,
   "metadata": {},
   "outputs": [],
   "source": [
    "merged['IncomeGroup'] = merged.IncomeGroup.map({\"High income\": \"High\", \"Low income\": \"Low\", \"Lower middle income\": \"Lower middle\", \"Upper middle income\": \"Upper middle\"})"
   ]
  },
  {
   "cell_type": "code",
   "execution_count": 22,
   "metadata": {},
   "outputs": [
    {
     "data": {
      "text/plain": [
       "0              High\n",
       "1               Low\n",
       "2      Lower middle\n",
       "3      Upper middle\n",
       "4              High\n",
       "           ...     \n",
       "178    Upper middle\n",
       "179    Upper middle\n",
       "180    Upper middle\n",
       "181    Lower middle\n",
       "182    Lower middle\n",
       "Name: IncomeGroup, Length: 183, dtype: object"
      ]
     },
     "execution_count": 22,
     "metadata": {},
     "output_type": "execute_result"
    }
   ],
   "source": [
    "merged['IncomeGroup']"
   ]
  },
  {
   "cell_type": "code",
   "execution_count": 23,
   "metadata": {},
   "outputs": [
    {
     "data": {
      "image/png": "[encoded data removed]",
      "text/plain": [
       "<Figure size 432x288 with 1 Axes>"
      ]
     },
     "metadata": {
      "needs_background": "light"
     },
     "output_type": "display_data"
    }
   ],
   "source": [
    "fig = plt.figure()\n",
    "ax = plt.gca()\n",
    "ax.scatter(merged['total_vaccinations_per_hundred'], merged['GDPpc'])\n",
    "ax.set_yscale('log')\n",
    "ax.set_xscale('log')"
   ]
  },
  {
   "cell_type": "code",
   "execution_count": 24,
   "metadata": {},
   "outputs": [],
   "source": [
    "merged = merged.drop(columns=['Country Name', 'date'])"
   ]
  },
  {
   "cell_type": "code",
   "execution_count": 25,
   "metadata": {},
   "outputs": [],
   "source": [
    "merged.to_csv('chart.csv')"
   ]
  },
  {
   "cell_type": "code",
   "execution_count": 284,
   "metadata": {},
   "outputs": [
    {
     "data": {
      "text/plain": [
       "0      29007.693003\n",
       "1        507.103432\n",
       "2       2790.726615\n",
       "3       5353.244856\n",
       "4      40886.391165\n",
       "           ...     \n",
       "178     4324.014018\n",
       "179     4430.784947\n",
       "180     6001.401121\n",
       "181     1305.063254\n",
       "182     1463.985910\n",
       "Name: GDPpc, Length: 183, dtype: float64"
      ]
     },
     "execution_count": 284,
     "metadata": {},
     "output_type": "execute_result"
    }
   ],
   "source": []
  },
  {
   "cell_type": "code",
   "execution_count": null,
   "metadata": {},
   "outputs": [],
   "source": []
  }
 ],
 "metadata": {
  "kernelspec": {
   "display_name": "Python 3",
   "language": "python",
   "name": "python3"
  },
  "language_info": {
   "codemirror_mode": {
    "name": "ipython",
    "version": 3
   },
   "file_extension": ".py",
   "mimetype": "text/x-python",
   "name": "python",
   "nbconvert_exporter": "python",
   "pygments_lexer": "ipython3",
   "version": "3.8.3"
  }
 },
 "nbformat": 4,
 "nbformat_minor": 4
}
